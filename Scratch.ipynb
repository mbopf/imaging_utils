{
 "cells": [
  {
   "cell_type": "code",
   "execution_count": 2,
   "id": "fdf6ba34",
   "metadata": {},
   "outputs": [
    {
     "name": "stdout",
     "output_type": "stream",
     "text": [
      "[0, 1, 2, 3, 4, 5, 6, 7, 8, 9, 10, 11, 12, 13, 14, 15, 16, 17, 18, 19]\n",
      "0\n",
      "5\n",
      "10\n",
      "15\n"
     ]
    }
   ],
   "source": [
    "import itertools\n",
    "alist = [x for x in range(20)]\n",
    "print(alist)\n",
    "for item in itertools.islice(alist, 0, 21, 5):\n",
    "    print(item)"
   ]
  },
  {
   "cell_type": "code",
   "execution_count": 3,
   "id": "b227a07c",
   "metadata": {},
   "outputs": [
    {
     "data": {
      "text/plain": [
       "<list_iterator at 0x7f4a728ccf10>"
      ]
     },
     "execution_count": 3,
     "metadata": {},
     "output_type": "execute_result"
    }
   ],
   "source": [
    "iter(alist)"
   ]
  },
  {
   "cell_type": "code",
   "execution_count": 4,
   "id": "834852e2",
   "metadata": {},
   "outputs": [
    {
     "name": "stdout",
     "output_type": "stream",
     "text": [
      "5\n",
      "6\n"
     ]
    }
   ],
   "source": [
    "for i in itertools.islice(range(20), 5, 7): \n",
    "    print(i)"
   ]
  },
  {
   "cell_type": "code",
   "execution_count": 5,
   "id": "399dcf38",
   "metadata": {},
   "outputs": [
    {
     "data": {
      "text/plain": [
       "<list_iterator at 0x7f4a60cd0460>"
      ]
     },
     "execution_count": 5,
     "metadata": {},
     "output_type": "execute_result"
    }
   ],
   "source": [
    "it = iter(alist)\n",
    "it"
   ]
  },
  {
   "cell_type": "code",
   "execution_count": 6,
   "id": "6a903ee9",
   "metadata": {},
   "outputs": [
    {
     "data": {
      "text/plain": [
       "(0, 1, 2, 3, 4)"
      ]
     },
     "execution_count": 6,
     "metadata": {},
     "output_type": "execute_result"
    }
   ],
   "source": [
    "tuple(itertools.islice(alist, 5))"
   ]
  },
  {
   "cell_type": "code",
   "execution_count": 7,
   "id": "fb645ad7",
   "metadata": {},
   "outputs": [
    {
     "data": {
      "text/plain": [
       "(0, 1, 2, 3, 4)"
      ]
     },
     "execution_count": 7,
     "metadata": {},
     "output_type": "execute_result"
    }
   ],
   "source": [
    "tuple(itertools.islice(alist, 5))"
   ]
  },
  {
   "cell_type": "code",
   "execution_count": 8,
   "id": "1fee3052",
   "metadata": {},
   "outputs": [
    {
     "data": {
      "text/plain": [
       "(0, 1, 2, 3, 4)"
      ]
     },
     "execution_count": 8,
     "metadata": {},
     "output_type": "execute_result"
    }
   ],
   "source": [
    "tuple(itertools.islice(it, 5))"
   ]
  },
  {
   "cell_type": "code",
   "execution_count": 9,
   "id": "5ac03369",
   "metadata": {},
   "outputs": [
    {
     "data": {
      "text/plain": [
       "(5, 6, 7, 8, 9)"
      ]
     },
     "execution_count": 9,
     "metadata": {},
     "output_type": "execute_result"
    }
   ],
   "source": [
    "tuple(itertools.islice(it, 5))"
   ]
  },
  {
   "cell_type": "code",
   "execution_count": 10,
   "id": "2db814e7",
   "metadata": {},
   "outputs": [],
   "source": [
    "import itertools\n",
    "def get_batch(item, batch: int):\n",
    "    it = iter(item)\n",
    "    return tuple(itertools.islice(it, 5))"
   ]
  },
  {
   "cell_type": "code",
   "execution_count": 11,
   "id": "ba62615c",
   "metadata": {},
   "outputs": [
    {
     "data": {
      "text/plain": [
       "(0, 1, 2, 3, 4)"
      ]
     },
     "execution_count": 11,
     "metadata": {},
     "output_type": "execute_result"
    }
   ],
   "source": [
    "get_batch(alist, 5)"
   ]
  },
  {
   "cell_type": "code",
   "execution_count": 12,
   "id": "d4859c24",
   "metadata": {},
   "outputs": [
    {
     "data": {
      "text/plain": [
       "(0, 1, 2, 3, 4)"
      ]
     },
     "execution_count": 12,
     "metadata": {},
     "output_type": "execute_result"
    }
   ],
   "source": [
    "get_batch(alist, 4)"
   ]
  },
  {
   "cell_type": "code",
   "execution_count": 13,
   "id": "384bd0d3",
   "metadata": {},
   "outputs": [],
   "source": [
    "import itertools\n",
    "# From Alex Chan https://alexwlchan.net/2018/12/iterating-in-fixed-size-chunks/\n",
    "def chunked_iterable(iterable, size):\n",
    "    it = iter(iterable)\n",
    "    while True:\n",
    "        chunk = tuple(itertools.islice(it, size))\n",
    "        if not chunk:\n",
    "            break\n",
    "        yield chunk"
   ]
  },
  {
   "cell_type": "code",
   "execution_count": 14,
   "id": "3e6894c6",
   "metadata": {},
   "outputs": [],
   "source": [
    "chunked_list = chunked_iterable(alist, 6)"
   ]
  },
  {
   "cell_type": "code",
   "execution_count": 15,
   "id": "c550b443",
   "metadata": {},
   "outputs": [
    {
     "data": {
      "text/plain": [
       "(0, 1, 2, 3, 4, 5)"
      ]
     },
     "execution_count": 15,
     "metadata": {},
     "output_type": "execute_result"
    }
   ],
   "source": [
    "next(chunked_list)"
   ]
  },
  {
   "cell_type": "code",
   "execution_count": 16,
   "id": "32fce940",
   "metadata": {},
   "outputs": [],
   "source": [
    "chunked_list2 = chunked_iterable(alist, 7)"
   ]
  },
  {
   "cell_type": "code",
   "execution_count": 17,
   "id": "b4580ee6",
   "metadata": {},
   "outputs": [
    {
     "name": "stdout",
     "output_type": "stream",
     "text": [
      "(0, 1, 2, 3, 4, 5, 6)\n",
      "(7, 8, 9, 10, 11, 12, 13)\n",
      "(14, 15, 16, 17, 18, 19)\n"
     ]
    }
   ],
   "source": [
    "for val in chunked_list2:\n",
    "    print(val)"
   ]
  },
  {
   "cell_type": "code",
   "execution_count": 18,
   "id": "4e0bad69",
   "metadata": {},
   "outputs": [],
   "source": [
    "import os\n",
    "filepath = \"./0221428AP.dcm\"\n",
    "assert os.path.isfile(filepath)"
   ]
  },
  {
   "cell_type": "code",
   "execution_count": 19,
   "id": "9c532042",
   "metadata": {},
   "outputs": [],
   "source": [
    "assert os.path.isdir(\".\")"
   ]
  },
  {
   "cell_type": "code",
   "execution_count": 20,
   "id": "15de2ee7",
   "metadata": {},
   "outputs": [
    {
     "data": {
      "text/plain": [
       "['.idea',\n",
       " '.ipynb_checkpoints',\n",
       " 'DisplayDicom.ipynb',\n",
       " '0221428AP.dcm',\n",
       " 'dicom_view.py',\n",
       " 'image_browse.py',\n",
       " 'buttons.py',\n",
       " '.gitignore',\n",
       " '.git',\n",
       " '0311983-PA.dcm',\n",
       " '1488096-PA.jpg',\n",
       " '0311959-PA.dcm',\n",
       " 'buttons2.py',\n",
       " 'Scratch.ipynb',\n",
       " 'alt_loop',\n",
       " 'Dicom_fields.ipynb',\n",
       " 'photo-interp_renamed.csv',\n",
       " 'Dicom_Photo-Interpret.ipynb',\n",
       " 'filenames.txt',\n",
       " 'convert_dcmtk.sh',\n",
       " 'browse_image_directory.ipynb',\n",
       " 'filename-jpg.txt',\n",
       " 'files.txt',\n",
       " 'jpgConvert.sh',\n",
       " 'Dicom_PixelRepresentation.ipynb',\n",
       " '0221428AP.jpg',\n",
       " 'pngTestImages',\n",
       " 'dcm_files.txt',\n",
       " 'jpg_files.txt',\n",
       " 'jpg_errors.txt',\n",
       " 'dcm_to_jpg-png.ipynb',\n",
       " 'jpgTestImages',\n",
       " 'missing_pixel_rep.txt',\n",
       " 'remove_borders.ipynb',\n",
       " '120168-AP.dcm',\n",
       " '0522100-AP_mod.dcm',\n",
       " '0522100-LAT_mod.dcm',\n",
       " 'noPixelRep_field',\n",
       " 'missingPR_count.txt',\n",
       " 'dicom_display_all_fields.ipynb',\n",
       " 'remove_borders.txt',\n",
       " 'Dicom_fields.txt']"
      ]
     },
     "execution_count": 20,
     "metadata": {},
     "output_type": "execute_result"
    }
   ],
   "source": [
    "os.listdir(\".\")"
   ]
  },
  {
   "cell_type": "code",
   "execution_count": 21,
   "id": "dafef722",
   "metadata": {},
   "outputs": [
    {
     "data": {
      "text/plain": [
       "list"
      ]
     },
     "execution_count": 21,
     "metadata": {},
     "output_type": "execute_result"
    }
   ],
   "source": [
    "import glob\n",
    "type(glob.glob(\"./*.py\"))"
   ]
  },
  {
   "cell_type": "code",
   "execution_count": 22,
   "id": "673c22da",
   "metadata": {},
   "outputs": [
    {
     "data": {
      "text/plain": [
       "['./0221428AP.dcm']"
      ]
     },
     "execution_count": 22,
     "metadata": {},
     "output_type": "execute_result"
    }
   ],
   "source": [
    "[\"./0221428AP.dcm\"]"
   ]
  },
  {
   "cell_type": "code",
   "execution_count": 23,
   "id": "3ed525eb",
   "metadata": {},
   "outputs": [
    {
     "data": {
      "text/plain": [
       "['./0221428AP.dcm']"
      ]
     },
     "execution_count": 23,
     "metadata": {},
     "output_type": "execute_result"
    }
   ],
   "source": [
    "def single_string_list(astr):\n",
    "    return [astr]\n",
    "single_string_list(\"./0221428AP.dcm\")"
   ]
  },
  {
   "cell_type": "code",
   "execution_count": 24,
   "id": "84f16d83",
   "metadata": {},
   "outputs": [
    {
     "name": "stdout",
     "output_type": "stream",
     "text": [
      "Warning: glob string ignored for single file input\n",
      "['./0221428AP.dcm']\n"
     ]
    }
   ],
   "source": [
    "file_ref = \"./0221428AP.dcm\"\n",
    "import glob\n",
    "def get_file_list(path: str, glob_str: str = None) -> list:\n",
    "    if os.path.isfile(path):\n",
    "        if glob_str:\n",
    "            print('Warning: glob string ignored for single file input')\n",
    "        return [path]\n",
    "    \n",
    "    if glob_str:\n",
    "        if not path.endswith('/'):\n",
    "            path += '/'\n",
    "        return glob.glob(path + glob_str)\n",
    "    else:\n",
    "        return os.listdir(path)\n",
    "    \n",
    "print(get_file_list(file_ref, \"*.py\"))"
   ]
  },
  {
   "cell_type": "code",
   "execution_count": 25,
   "id": "cc0f69af",
   "metadata": {},
   "outputs": [
    {
     "data": {
      "text/plain": [
       "['./dicom_view.py', './image_browse.py', './buttons.py', './buttons2.py']"
      ]
     },
     "execution_count": 25,
     "metadata": {},
     "output_type": "execute_result"
    }
   ],
   "source": [
    "get_file_list(\".\", \"*.py\")"
   ]
  },
  {
   "cell_type": "code",
   "execution_count": 26,
   "id": "e84afcf8",
   "metadata": {},
   "outputs": [
    {
     "data": {
      "text/plain": [
       "['.idea',\n",
       " '.ipynb_checkpoints',\n",
       " 'DisplayDicom.ipynb',\n",
       " '0221428AP.dcm',\n",
       " 'dicom_view.py',\n",
       " 'image_browse.py',\n",
       " 'buttons.py',\n",
       " '.gitignore',\n",
       " '.git',\n",
       " '0311983-PA.dcm',\n",
       " '1488096-PA.jpg',\n",
       " '0311959-PA.dcm',\n",
       " 'buttons2.py',\n",
       " 'Scratch.ipynb',\n",
       " 'alt_loop',\n",
       " 'Dicom_fields.ipynb',\n",
       " 'photo-interp_renamed.csv',\n",
       " 'Dicom_Photo-Interpret.ipynb',\n",
       " 'filenames.txt',\n",
       " 'convert_dcmtk.sh',\n",
       " 'browse_image_directory.ipynb',\n",
       " 'filename-jpg.txt',\n",
       " 'files.txt',\n",
       " 'jpgConvert.sh',\n",
       " 'Dicom_PixelRepresentation.ipynb',\n",
       " '0221428AP.jpg',\n",
       " 'pngTestImages',\n",
       " 'dcm_files.txt',\n",
       " 'jpg_files.txt',\n",
       " 'jpg_errors.txt',\n",
       " 'dcm_to_jpg-png.ipynb',\n",
       " 'jpgTestImages',\n",
       " 'missing_pixel_rep.txt',\n",
       " 'remove_borders.ipynb',\n",
       " '120168-AP.dcm',\n",
       " '0522100-AP_mod.dcm',\n",
       " '0522100-LAT_mod.dcm',\n",
       " 'noPixelRep_field',\n",
       " 'missingPR_count.txt',\n",
       " 'dicom_display_all_fields.ipynb',\n",
       " 'remove_borders.txt',\n",
       " 'Dicom_fields.txt']"
      ]
     },
     "execution_count": 26,
     "metadata": {},
     "output_type": "execute_result"
    }
   ],
   "source": [
    "get_file_list(\".\")"
   ]
  },
  {
   "cell_type": "code",
   "execution_count": 27,
   "id": "c2c458e3",
   "metadata": {},
   "outputs": [
    {
     "data": {
      "text/plain": [
       "('file.fake', '.ext')"
      ]
     },
     "execution_count": 27,
     "metadata": {},
     "output_type": "execute_result"
    }
   ],
   "source": [
    "os.path.splitext('file.fake.ext')"
   ]
  },
  {
   "cell_type": "code",
   "execution_count": 28,
   "id": "61ab88fb",
   "metadata": {},
   "outputs": [
    {
     "data": {
      "text/plain": [
       "True"
      ]
     },
     "execution_count": 28,
     "metadata": {},
     "output_type": "execute_result"
    }
   ],
   "source": [
    "\"mike.jpg\".endswith(\".jpg\")"
   ]
  },
  {
   "cell_type": "code",
   "execution_count": 29,
   "id": "90e85c61",
   "metadata": {},
   "outputs": [
    {
     "name": "stdout",
     "output_type": "stream",
     "text": [
      "['.jpg', '.jpeg', '.png', '.tif', '.tiff', '.dcm']\n",
      ".jpeg\n"
     ]
    }
   ],
   "source": [
    "EXTENSIONS = ['.jpg', '.jpeg', '.png', '.tif', '.tiff']\n",
    "ALL_EXTENSIONS = EXTENSIONS + ['.dcm']\n",
    "print(ALL_EXTENSIONS)\n",
    "ext = os.path.splitext('file.JPEG')[1].lower()\n",
    "if ext in EXTENSIONS:\n",
    "    print(ext)"
   ]
  },
  {
   "cell_type": "code",
   "execution_count": 30,
   "id": "3085a254",
   "metadata": {},
   "outputs": [
    {
     "name": "stdout",
     "output_type": "stream",
     "text": [
      "('.tif', '')\n",
      "('.tif', '.PNG')\n"
     ]
    }
   ],
   "source": [
    "print(os.path.splitext(\".tif\"))\n",
    "print(os.path.splitext(\".tif.PNG\"))"
   ]
  },
  {
   "cell_type": "code",
   "execution_count": 31,
   "id": "e4702815",
   "metadata": {},
   "outputs": [
    {
     "name": "stdout",
     "output_type": "stream",
     "text": [
      "True\n",
      "True\n",
      "False\n",
      "False\n",
      "True\n",
      "True\n",
      "False\n"
     ]
    }
   ],
   "source": [
    "def is_img(filename: str) -> bool:\n",
    "    return os.path.splitext(filename)[1].lower() in ALL_EXTENSIONS\n",
    "\n",
    "print(is_img(\"mike.jpg\"))\n",
    "print(is_img(\"mike.jPEg\"))\n",
    "print(is_img(\"mike\"))\n",
    "print(is_img(\".tif\"))\n",
    "print(is_img(\".git.png\"))\n",
    "print(is_img(\"mike.jpg.DCM\"))\n",
    "print(is_img(\"mike.jpg.txt\"))"
   ]
  },
  {
   "cell_type": "code",
   "execution_count": 32,
   "id": "ca165f74",
   "metadata": {},
   "outputs": [
    {
     "name": "stdout",
     "output_type": "stream",
     "text": [
      "dave.jPg\n",
      "lisa.TIFF\n",
      "tom.DCm\n",
      "mike.PNG\n"
     ]
    }
   ],
   "source": [
    "filelist = [\"dave.jPg\", \"lisa.TIFF\", \"none.tifff\", \"tom.DCm\", \"mike.PNG\", \"junk.txt\"]\n",
    "for item in filter(is_img, filelist):\n",
    "    print(item)"
   ]
  },
  {
   "cell_type": "code",
   "execution_count": 33,
   "id": "11132c62",
   "metadata": {},
   "outputs": [
    {
     "data": {
      "text/plain": [
       "['dave.jPg', 'lisa.TIFF', 'tom.DCm', 'mike.PNG']"
      ]
     },
     "execution_count": 33,
     "metadata": {},
     "output_type": "execute_result"
    }
   ],
   "source": [
    "img_list = [file for file in filelist if is_img(file)]\n",
    "img_list"
   ]
  },
  {
   "cell_type": "code",
   "execution_count": 34,
   "id": "030f500d",
   "metadata": {},
   "outputs": [
    {
     "data": {
      "text/plain": [
       "PIL.JpegImagePlugin.JpegImageFile"
      ]
     },
     "execution_count": 34,
     "metadata": {},
     "output_type": "execute_result"
    }
   ],
   "source": [
    "from PIL import Image\n",
    "img = Image.open(\"1488096-PA.jpg\")\n",
    "type(img)"
   ]
  },
  {
   "cell_type": "code",
   "execution_count": 35,
   "id": "85067ce4",
   "metadata": {},
   "outputs": [
    {
     "data": {
      "text/plain": [
       "(713, 858)"
      ]
     },
     "execution_count": 35,
     "metadata": {},
     "output_type": "execute_result"
    }
   ],
   "source": [
    "img.size"
   ]
  },
  {
   "cell_type": "code",
   "execution_count": 36,
   "id": "d3f812ca",
   "metadata": {},
   "outputs": [],
   "source": [
    "import matplotlib.pyplot as plt\n",
    "%matplotlib inline"
   ]
  },
  {
   "cell_type": "code",
   "execution_count": 37,
   "id": "097b9f20",
   "metadata": {},
   "outputs": [],
   "source": [
    "from PIL import Image\n",
    "import pydicom\n"
   ]
  },
  {
   "cell_type": "code",
   "execution_count": 38,
   "id": "401a35ef",
   "metadata": {},
   "outputs": [],
   "source": [
    "def get_image(filename: str):\n",
    "    EXTENSIONS = ['.jpg', '.jpeg', '.png', '.tif', '.tiff']\n",
    "    ext = os.path.splitext(filename)[1].lower()\n",
    "    if ext == '.dcm':\n",
    "        dicom_data = pydicom.read_file(filename)\n",
    "        im = dicom_data.pixel_array\n",
    "        im_shape = im.shape\n",
    "    elif ext in EXTENSIONS:\n",
    "        im = Image.open(filename)\n",
    "        im_shape = im.size\n",
    "    else:\n",
    "        print(f\"file not in {EXTENSIONS}\")\n",
    "        \n",
    "    return im, im_shape"
   ]
  },
  {
   "cell_type": "code",
   "execution_count": 39,
   "id": "ccefa7de",
   "metadata": {},
   "outputs": [
    {
     "data": {
      "image/png": "[encoded data removed]",
      "text/plain": [
       "<Figure size 432x288 with 1 Axes>"
      ]
     },
     "metadata": {
      "needs_background": "light"
     },
     "output_type": "display_data"
    },
    {
     "name": "stdout",
     "output_type": "stream",
     "text": [
      "(713, 858)\n"
     ]
    }
   ],
   "source": [
    "img, img_shape = get_image('1488096-PA.jpg') \n",
    "fig, ax = plt.subplots()\n",
    "ax.imshow(img)\n",
    "plt.show()\n",
    "print(img_shape)"
   ]
  },
  {
   "cell_type": "code",
   "execution_count": 40,
   "id": "083a3766",
   "metadata": {},
   "outputs": [
    {
     "data": {
      "image/png": "[encoded data removed]",
      "text/plain": [
       "<Figure size 432x288 with 1 Axes>"
      ]
     },
     "metadata": {
      "needs_background": "light"
     },
     "output_type": "display_data"
    },
    {
     "name": "stdout",
     "output_type": "stream",
     "text": [
      "(1770, 2370)\n"
     ]
    }
   ],
   "source": [
    "img, img_shape = get_image('0221428AP.dcm') \n",
    "fig, ax = plt.subplots()\n",
    "ax.imshow(img, cmap=plt.cm.bone)\n",
    "plt.show()\n",
    "print(img_shape)"
   ]
  },
  {
   "cell_type": "code",
   "execution_count": 41,
   "id": "b3e3b16b",
   "metadata": {},
   "outputs": [
    {
     "data": {
      "image/png": "[encoded data removed]",
      "text/plain": [
       "<Figure size 432x288 with 1 Axes>"
      ]
     },
     "metadata": {
      "needs_background": "light"
     },
     "output_type": "display_data"
    },
    {
     "name": "stdout",
     "output_type": "stream",
     "text": [
      "(1731, 1777, 3)\n"
     ]
    }
   ],
   "source": [
    "img, img_shape = get_image('0311983-PA.dcm') \n",
    "fig, ax = plt.subplots()\n",
    "ax.imshow(img, cmap=plt.cm.bone)\n",
    "plt.show()\n",
    "print(img_shape)"
   ]
  },
  {
   "cell_type": "code",
   "execution_count": 42,
   "id": "32c9a2f1",
   "metadata": {},
   "outputs": [
    {
     "name": "stdout",
     "output_type": "stream",
     "text": [
      "<class 'numpy.ndarray'>\n",
      "(3, 2)\n",
      "[<AxesSubplot:> <AxesSubplot:>]\n",
      "[<AxesSubplot:> <AxesSubplot:>]\n",
      "[<AxesSubplot:> <AxesSubplot:>]\n"
     ]
    },
    {
     "data": {
      "image/png": "[encoded data removed]",
      "text/plain": [
       "<Figure size 432x288 with 6 Axes>"
      ]
     },
     "metadata": {
      "needs_background": "light"
     },
     "output_type": "display_data"
    }
   ],
   "source": [
    "fig, axs = plt.subplots(3,2)\n",
    "print(type(axs))\n",
    "print(axs.shape)\n",
    "for item in axs:\n",
    "    print(item)"
   ]
  },
  {
   "cell_type": "code",
   "execution_count": 43,
   "id": "479fccb8",
   "metadata": {},
   "outputs": [
    {
     "name": "stdout",
     "output_type": "stream",
     "text": [
      "<class 'numpy.ndarray'>\n",
      "(3,)\n",
      "AxesSubplot(0.125,0.125;0.227941x0.755)\n",
      "AxesSubplot(0.398529,0.125;0.227941x0.755)\n",
      "AxesSubplot(0.672059,0.125;0.227941x0.755)\n"
     ]
    },
    {
     "data": {
      "image/png": "[encoded data removed]",
      "text/plain": [
       "<Figure size 432x288 with 3 Axes>"
      ]
     },
     "metadata": {
      "needs_background": "light"
     },
     "output_type": "display_data"
    }
   ],
   "source": [
    "fig, axs = plt.subplots(1,3)\n",
    "print(type(axs))\n",
    "print(axs.shape)\n",
    "for item in axs:\n",
    "    print(item)"
   ]
  },
  {
   "cell_type": "code",
   "execution_count": 44,
   "id": "ea733bca",
   "metadata": {},
   "outputs": [
    {
     "name": "stdout",
     "output_type": "stream",
     "text": [
      "<class 'numpy.ndarray'>\n",
      "(3,)\n",
      "AxesSubplot(0.125,0.657941;0.775x0.222059)\n",
      "AxesSubplot(0.125,0.391471;0.775x0.222059)\n",
      "AxesSubplot(0.125,0.125;0.775x0.222059)\n"
     ]
    },
    {
     "data": {
      "image/png": "[encoded data removed]",
      "text/plain": [
       "<Figure size 432x288 with 3 Axes>"
      ]
     },
     "metadata": {
      "needs_background": "light"
     },
     "output_type": "display_data"
    }
   ],
   "source": [
    "fig, axs = plt.subplots(3,1)\n",
    "print(type(axs))\n",
    "print(axs.shape)\n",
    "for item in axs:\n",
    "    print(item)"
   ]
  },
  {
   "cell_type": "code",
   "execution_count": 45,
   "id": "02143672",
   "metadata": {},
   "outputs": [
    {
     "data": {
      "text/plain": [
       "[<AxesSubplot:>, <AxesSubplot:>, <AxesSubplot:>]"
      ]
     },
     "execution_count": 45,
     "metadata": {},
     "output_type": "execute_result"
    }
   ],
   "source": [
    "list(axs.ravel())"
   ]
  },
  {
   "cell_type": "code",
   "execution_count": 46,
   "id": "b69d90e8",
   "metadata": {},
   "outputs": [
    {
     "data": {
      "text/plain": [
       "[<AxesSubplot:>]"
      ]
     },
     "execution_count": 46,
     "metadata": {},
     "output_type": "execute_result"
    }
   ],
   "source": [
    "[axs[0]]"
   ]
  },
  {
   "cell_type": "code",
   "execution_count": 47,
   "id": "fc492fe8",
   "metadata": {},
   "outputs": [],
   "source": [
    "import numpy as np\n",
    "import random\n",
    "id = 5\n",
    "jd = 5\n",
    "kd = 3\n",
    "a = np.empty((id,jd,kd), dtype=np.uint8)"
   ]
  },
  {
   "cell_type": "code",
   "execution_count": 48,
   "id": "10257089",
   "metadata": {},
   "outputs": [
    {
     "data": {
      "text/plain": [
       "array([[[ 86,  86,  86],\n",
       "        [248, 248, 248],\n",
       "        [165, 165, 165],\n",
       "        [  6,   6,   6],\n",
       "        [108, 108, 108]],\n",
       "\n",
       "       [[144, 144, 144],\n",
       "        [ 17,  17,  17],\n",
       "        [237, 237, 237],\n",
       "        [111, 111, 111],\n",
       "        [171, 171, 171]],\n",
       "\n",
       "       [[ 54,  54,  54],\n",
       "        [149, 149, 149],\n",
       "        [194, 194, 194],\n",
       "        [  8,   8,   8],\n",
       "        [ 28,  28,  28]],\n",
       "\n",
       "       [[252, 252, 252],\n",
       "        [246, 246, 246],\n",
       "        [158, 158, 158],\n",
       "        [ 98,  98,  98],\n",
       "        [197, 197, 197]],\n",
       "\n",
       "       [[117, 117, 117],\n",
       "        [246, 246, 246],\n",
       "        [172, 172, 172],\n",
       "        [ 32,  32,  32],\n",
       "        [192, 192, 192]]], dtype=uint8)"
      ]
     },
     "execution_count": 48,
     "metadata": {},
     "output_type": "execute_result"
    }
   ],
   "source": [
    "for i in range(id):\n",
    "    for j in range(jd):\n",
    "        rg = random.randint(0,255)\n",
    "        for k in range(kd):\n",
    "            a[i,j,k] = rg\n",
    "a"
   ]
  },
  {
   "cell_type": "code",
   "execution_count": 49,
   "id": "2a03b392",
   "metadata": {},
   "outputs": [
    {
     "data": {
      "text/plain": [
       "array([[ 86, 248, 165,   6, 108],\n",
       "       [144,  17, 237, 111, 171],\n",
       "       [ 54, 149, 194,   8,  28],\n",
       "       [252, 246, 158,  98, 197],\n",
       "       [117, 246, 172,  32, 192]], dtype=uint8)"
      ]
     },
     "execution_count": 49,
     "metadata": {},
     "output_type": "execute_result"
    }
   ],
   "source": [
    "a[:,:,1]"
   ]
  },
  {
   "cell_type": "code",
   "execution_count": 50,
   "id": "61832498",
   "metadata": {
    "scrolled": false
   },
   "outputs": [
    {
     "data": {
      "text/plain": [
       "<matplotlib.image.AxesImage at 0x7f4a37a81520>"
      ]
     },
     "execution_count": 50,
     "metadata": {},
     "output_type": "execute_result"
    },
    {
     "data": {
      "image/png": "[encoded data removed]",
      "text/plain": [
       "<Figure size 432x288 with 1 Axes>"
      ]
     },
     "metadata": {
      "needs_background": "light"
     },
     "output_type": "display_data"
    }
   ],
   "source": [
    "plt.figure()\n",
    "plt.imshow(a, cmap=\"bone\")"
   ]
  },
  {
   "cell_type": "code",
   "execution_count": 51,
   "id": "007402b9",
   "metadata": {
    "scrolled": false
   },
   "outputs": [
    {
     "data": {
      "text/plain": [
       "<matplotlib.image.AxesImage at 0x7f4a37bdc3a0>"
      ]
     },
     "execution_count": 51,
     "metadata": {},
     "output_type": "execute_result"
    },
    {
     "data": {
      "image/png": "[encoded data removed]",
      "text/plain": [
       "<Figure size 432x288 with 1 Axes>"
      ]
     },
     "metadata": {
      "needs_background": "light"
     },
     "output_type": "display_data"
    }
   ],
   "source": [
    "plt.figure()\n",
    "plt.imshow(a, cmap=plt.cm.bone)"
   ]
  },
  {
   "cell_type": "code",
   "execution_count": 52,
   "id": "43031e50",
   "metadata": {
    "scrolled": false
   },
   "outputs": [
    {
     "data": {
      "text/plain": [
       "<matplotlib.image.AxesImage at 0x7f4a37c6c6d0>"
      ]
     },
     "execution_count": 52,
     "metadata": {},
     "output_type": "execute_result"
    },
    {
     "data": {
      "image/png": "[encoded data removed]",
      "text/plain": [
       "<Figure size 432x288 with 1 Axes>"
      ]
     },
     "metadata": {
      "needs_background": "light"
     },
     "output_type": "display_data"
    }
   ],
   "source": [
    "plt.figure()\n",
    "plt.imshow(a, cmap=plt.cm.gray)"
   ]
  },
  {
   "cell_type": "code",
   "execution_count": 53,
   "id": "fa928a0d",
   "metadata": {
    "scrolled": false
   },
   "outputs": [
    {
     "data": {
      "text/plain": [
       "<matplotlib.image.AxesImage at 0x7f4a37ea14f0>"
      ]
     },
     "execution_count": 53,
     "metadata": {},
     "output_type": "execute_result"
    },
    {
     "data": {
      "image/png": "[encoded data removed]",
      "text/plain": [
       "<Figure size 432x288 with 1 Axes>"
      ]
     },
     "metadata": {
      "needs_background": "light"
     },
     "output_type": "display_data"
    }
   ],
   "source": [
    "plt.figure()\n",
    "plt.imshow(a, cmap=\"gray\")"
   ]
  },
  {
   "cell_type": "code",
   "execution_count": 54,
   "id": "5db44ecb",
   "metadata": {
    "scrolled": true
   },
   "outputs": [
    {
     "name": "stdout",
     "output_type": "stream",
     "text": [
      "a.shape = (5, 5, 3)\n",
      "b.shape = (5, 5)\n",
      "<class 'numpy.uint8'>\n"
     ]
    },
    {
     "data": {
      "text/plain": [
       "array([[ 86, 248, 165,   6, 108],\n",
       "       [144,  17, 237, 111, 171],\n",
       "       [ 54, 149, 194,   8,  28],\n",
       "       [252, 246, 158,  98, 197],\n",
       "       [117, 246, 172,  32, 192]], dtype=uint8)"
      ]
     },
     "execution_count": 54,
     "metadata": {},
     "output_type": "execute_result"
    },
    {
     "data": {
      "image/png": "[encoded data removed]",
      "text/plain": [
       "<Figure size 432x288 with 1 Axes>"
      ]
     },
     "metadata": {
      "needs_background": "light"
     },
     "output_type": "display_data"
    }
   ],
   "source": [
    "print(f'a.shape = {a.shape}')\n",
    "b = np.min(a, axis=2)\n",
    "assert(np.min(a, axis=2).all() == np.max(a, axis=2).all())\n",
    "assert(a.min(axis=2).all() == a.max(axis=2).all())\n",
    "print(f'b.shape = {b.shape}')\n",
    "plt.figure()\n",
    "plt.imshow(b, cmap=plt.cm.bone)\n",
    "print(type(b[0,0]))\n",
    "b"
   ]
  },
  {
   "cell_type": "code",
   "execution_count": 55,
   "id": "4bf513f8",
   "metadata": {
    "scrolled": true
   },
   "outputs": [
    {
     "data": {
      "text/plain": [
       "array([[ 86, 248, 165,   6, 108],\n",
       "       [144,  17, 237, 111, 171],\n",
       "       [ 54, 149, 194,   8,  28],\n",
       "       [252, 246, 158,  98, 197],\n",
       "       [117, 246, 172,  32, 192]], dtype=uint8)"
      ]
     },
     "execution_count": 55,
     "metadata": {},
     "output_type": "execute_result"
    },
    {
     "data": {
      "image/png": "[encoded data removed]",
      "text/plain": [
       "<Figure size 432x288 with 1 Axes>"
      ]
     },
     "metadata": {
      "needs_background": "light"
     },
     "output_type": "display_data"
    }
   ],
   "source": [
    "b = np.max(a, axis=2)\n",
    "plt.figure()\n",
    "plt.imshow(b, cmap=plt.cm.bone)\n",
    "b"
   ]
  },
  {
   "cell_type": "code",
   "execution_count": 56,
   "id": "e8a95564",
   "metadata": {
    "scrolled": true
   },
   "outputs": [
    {
     "name": "stdout",
     "output_type": "stream",
     "text": [
      "[[ 86. 248. 165.   6. 108.]\n",
      " [144.  17. 237. 111. 171.]\n",
      " [ 54. 149. 194.   8.  28.]\n",
      " [252. 246. 158.  98. 197.]\n",
      " [117. 246. 172.  32. 192.]]\n"
     ]
    },
    {
     "data": {
      "text/plain": [
       "array([[ 86., 248., 165.,   6., 108.],\n",
       "       [144.,  17., 237., 111., 171.],\n",
       "       [ 54., 149., 194.,   8.,  28.],\n",
       "       [252., 246., 158.,  98., 197.],\n",
       "       [117., 246., 172.,  32., 192.]])"
      ]
     },
     "execution_count": 56,
     "metadata": {},
     "output_type": "execute_result"
    },
    {
     "data": {
      "image/png": "[encoded data removed]",
      "text/plain": [
       "<Figure size 432x288 with 1 Axes>"
      ]
     },
     "metadata": {
      "needs_background": "light"
     },
     "output_type": "display_data"
    }
   ],
   "source": [
    "b = np.mean(a, axis=2)\n",
    "print(b)\n",
    "plt.figure()\n",
    "plt.imshow(b, cmap=plt.cm.bone)\n",
    "b"
   ]
  },
  {
   "cell_type": "code",
   "execution_count": 57,
   "id": "bb088834",
   "metadata": {
    "scrolled": true
   },
   "outputs": [
    {
     "name": "stdout",
     "output_type": "stream",
     "text": [
      "[[ 86 248 165   6 108]\n",
      " [144  17 237 111 171]\n",
      " [ 54 149 194   8  28]\n",
      " [252 246 158  98 197]\n",
      " [117 246 172  32 192]]\n"
     ]
    },
    {
     "data": {
      "text/plain": [
       "<matplotlib.image.AxesImage at 0x7f4a37c367f0>"
      ]
     },
     "execution_count": 57,
     "metadata": {},
     "output_type": "execute_result"
    },
    {
     "data": {
      "image/png": "[encoded data removed]",
      "text/plain": [
       "<Figure size 432x288 with 1 Axes>"
      ]
     },
     "metadata": {
      "needs_background": "light"
     },
     "output_type": "display_data"
    }
   ],
   "source": [
    "b = np.mean(a, axis=2).astype(int)\n",
    "print(b)\n",
    "plt.figure()\n",
    "plt.imshow(b, cmap=plt.cm.gray)"
   ]
  },
  {
   "cell_type": "code",
   "execution_count": 58,
   "id": "1ee0d024",
   "metadata": {
    "scrolled": true
   },
   "outputs": [
    {
     "name": "stdout",
     "output_type": "stream",
     "text": [
      "[[ 86 248 165   6 108]\n",
      " [144  17 237 111 171]\n",
      " [ 54 149 194   8  28]\n",
      " [252 246 158  98 197]\n",
      " [117 246 172  32 192]]\n"
     ]
    },
    {
     "data": {
      "text/plain": [
       "<matplotlib.image.AxesImage at 0x7f4a37dde5b0>"
      ]
     },
     "execution_count": 58,
     "metadata": {},
     "output_type": "execute_result"
    },
    {
     "data": {
      "image/png": "[encoded data removed]",
      "text/plain": [
       "<Figure size 432x288 with 1 Axes>"
      ]
     },
     "metadata": {
      "needs_background": "light"
     },
     "output_type": "display_data"
    }
   ],
   "source": [
    "b = np.mean(a, axis=2).astype(int)\n",
    "print(b)\n",
    "plt.figure()\n",
    "plt.imshow(b, cmap=\"gray\")"
   ]
  },
  {
   "cell_type": "code",
   "execution_count": 59,
   "id": "6448790f",
   "metadata": {},
   "outputs": [
    {
     "data": {
      "text/plain": [
       "array([[0.3372549 , 0.97254902, 0.64705882, 0.02352941, 0.42352941],\n",
       "       [0.56470588, 0.06666667, 0.92941176, 0.43529412, 0.67058824],\n",
       "       [0.21176471, 0.58431373, 0.76078431, 0.03137255, 0.10980392],\n",
       "       [0.98823529, 0.96470588, 0.61960784, 0.38431373, 0.77254902],\n",
       "       [0.45882353, 0.96470588, 0.6745098 , 0.1254902 , 0.75294118]])"
      ]
     },
     "execution_count": 59,
     "metadata": {},
     "output_type": "execute_result"
    },
    {
     "data": {
      "image/png": "[encoded data removed]",
      "text/plain": [
       "<Figure size 432x288 with 1 Axes>"
      ]
     },
     "metadata": {
      "needs_background": "light"
     },
     "output_type": "display_data"
    }
   ],
   "source": [
    "plt.figure()\n",
    "c = b/255\n",
    "plt.imshow(c, cmap=\"gray\")\n",
    "c"
   ]
  },
  {
   "cell_type": "code",
   "execution_count": 60,
   "id": "7771600d",
   "metadata": {},
   "outputs": [
    {
     "data": {
      "text/plain": [
       "array([[62374, 24883,  9513, 47682, 46269],\n",
       "       [50634, 36704, 36771, 24843, 37509],\n",
       "       [29484, 35133, 35816,  3717,  6061],\n",
       "       [17278,  6125, 59654, 32042, 55000],\n",
       "       [12393, 42929,  3606, 46957, 28337]], dtype=uint16)"
      ]
     },
     "execution_count": 60,
     "metadata": {},
     "output_type": "execute_result"
    }
   ],
   "source": [
    "d = np.ones((5,5)).astype(np.uint16)\n",
    "for i in range(id):\n",
    "    for j in range(jd):\n",
    "        rg = random.randint(0,65395)\n",
    "        d[i,j] = rg\n",
    "d"
   ]
  },
  {
   "cell_type": "code",
   "execution_count": 61,
   "id": "efcebb5c",
   "metadata": {},
   "outputs": [
    {
     "data": {
      "text/plain": [
       "<matplotlib.image.AxesImage at 0x7f4a37d40fd0>"
      ]
     },
     "execution_count": 61,
     "metadata": {},
     "output_type": "execute_result"
    },
    {
     "data": {
      "image/png": "[encoded data removed]",
      "text/plain": [
       "<Figure size 432x288 with 1 Axes>"
      ]
     },
     "metadata": {
      "needs_background": "light"
     },
     "output_type": "display_data"
    }
   ],
   "source": [
    "plt.figure()\n",
    "#c = b/255\n",
    "plt.imshow(d, cmap=\"gray\")"
   ]
  },
  {
   "cell_type": "code",
   "execution_count": 65,
   "id": "24946dd7",
   "metadata": {},
   "outputs": [],
   "source": [
    "def get_image_rev(filename: str, rgb_to_gray=True, verbose=False):\n",
    "    rgb_flag = False\n",
    "    ext = os.path.splitext(filename)[1].lower()\n",
    "    if ext == '.dcm':\n",
    "        dicom_data = pydicom.read_file(filename)\n",
    "        if not 'PixelRepresentation' in dicom_data:\n",
    "            dicom_data.PixelRepresentation = 0\n",
    "            if verbose:\n",
    "                print(f'Added PixelRep = 0 for {os.path.basename(filename)}')\n",
    "        im = dicom_data.pixel_array\n",
    "        # Debug\n",
    "        if verbose:\n",
    "            print(dicom_data)\n",
    "            print(f'pixel_array = \\n{im}')\n",
    "            print(f'PhotoInterp = {dicom_data.PhotometricInterpretation}')\n",
    "        if dicom_data.PhotometricInterpretation == 'MONOCHROME1':\n",
    "            im = im.max() - im\n",
    "        elif dicom_data.PhotometricInterpretation == 'MONOCHROME2':\n",
    "            pass  #\"standard\" case\n",
    "        elif dicom_data.PhotometricInterpretation == 'RGB':\n",
    "            rgb_flag = True\n",
    "        elif dicom_data.PhotometricInterpretation == 'YBR_FULL_422':\n",
    "            im = convert_color_space(im, \"YBR_FULL_422\", \"RGB\")\n",
    "            print(f'ybr converted to rgb')\n",
    "            rgb_flag = True\n",
    "        else:\n",
    "            print(f\"WARNING: Unexpected PhotometricInterpretation = {dicom_data.PhotometricInterpretation}\")\n",
    "            \n",
    "        im_shape = im.shape\n",
    "    elif ext in PIL_EXTENSIONS:\n",
    "        im = Image.open(filename)\n",
    "        im_shape = im.size\n",
    "        rgb_flag = True\n",
    "    else:\n",
    "        print(f\"file not in {PIL_EXTENSIONS}\")\n",
    "        \n",
    "    if rgb_flag and rgb_to_gray:\n",
    "        if im.max(axis=2).all() == im.min(axis=2).all():\n",
    "            im = im.max(axis=2)\n",
    "            print(f'RGB converted to grayscale')\n",
    "        else:\n",
    "            print(f\"ERROR: RGB components differ; not grayscale\")\n",
    "        im_shape = im.shape # Recalc. shape to get rid of 3rd dim. (will this work for jpg/png/tiff?)\n",
    "\n",
    "    return im, im_shape"
   ]
  },
  {
   "cell_type": "code",
   "execution_count": 72,
   "id": "6e6455d5",
   "metadata": {},
   "outputs": [
    {
     "name": "stdout",
     "output_type": "stream",
     "text": [
      "RGB converted to grayscale\n"
     ]
    },
    {
     "data": {
      "image/png": "[encoded data removed]",
      "text/plain": [
       "<Figure size 576x432 with 1 Axes>"
      ]
     },
     "metadata": {
      "needs_background": "light"
     },
     "output_type": "display_data"
    },
    {
     "name": "stdout",
     "output_type": "stream",
     "text": [
      "(1200, 1600)\n"
     ]
    }
   ],
   "source": [
    "img, img_shape = get_image_rev('/slurm_storage/mbopf/data/PedTB/renamed/0522112-AP.dcm')\n",
    "fig, ax = plt.subplots(figsize = (8,6))\n",
    "ax.imshow(img, cmap=plt.cm.bone)\n",
    "plt.show()\n",
    "print(img_shape)"
   ]
  },
  {
   "cell_type": "code",
   "execution_count": 75,
   "id": "4638b136",
   "metadata": {},
   "outputs": [
    {
     "data": {
      "text/plain": [
       "<Figure size 432x288 with 0 Axes>"
      ]
     },
     "metadata": {},
     "output_type": "display_data"
    }
   ],
   "source": [
    "import cv2\n",
    "thresh = cv2.threshold(img, 0, img.max(), cv2.THRESH_BINARY+cv2.THRESH_OTSU)[1]\n",
    "hh, ww = thresh.shape\n",
    "\n",
    "white = np.where(thresh==img.max())\n",
    "xmin, ymin, xmax, ymax = np.min(white[1]), np.min(white[0]), np.max(white[1]), np.max(white[0])\n",
    "plt.figure()\n",
    "ax.imshow(img[ymin:ymax, xmin:xmax])\n",
    "plt.show()"
   ]
  },
  {
   "cell_type": "code",
   "execution_count": null,
   "id": "36a137d3",
   "metadata": {},
   "outputs": [],
   "source": [
    "## Internet code ######\n",
    "gray = cv2.cvtColor(img,cv2.COLOR_BGR2GRAY)\n",
    "_,thresh = cv2.threshold(gray,15,255,cv2.THRESH_BINARY)\n",
    "\n",
    "_, contours, _= cv2.findContours(thresh, cv2.RETR_EXTERNAL, cv2.CHAIN_APPROX_SIMPLE)\n",
    "cnt = contours[0]\n",
    "\n",
    "x,y,w,h = cv2.boundingRect(cnt)\n",
    "\n",
    "crop = img[y:y+h,x:x+w]\n",
    "\n",
    "height_2, width_2, channels_2 = crop.shape\n",
    "print \"height: \" + repr(height_2)\n",
    "print \"width: \" + repr(width_2)\n"
   ]
  }
 ],
 "metadata": {
  "kernelspec": {
   "display_name": "Python [conda env:imaging] *",
   "language": "python",
   "name": "conda-env-imaging-py"
  },
  "language_info": {
   "codemirror_mode": {
    "name": "ipython",
    "version": 3
   },
   "file_extension": ".py",
   "mimetype": "text/x-python",
   "name": "python",
   "nbconvert_exporter": "python",
   "pygments_lexer": "ipython3",
   "version": "3.9.12"
  }
 },
 "nbformat": 4,
 "nbformat_minor": 5
}
