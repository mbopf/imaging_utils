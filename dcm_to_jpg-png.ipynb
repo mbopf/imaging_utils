{
 "cells": [
  {
   "cell_type": "code",
   "execution_count": 7,
   "id": "15e4cc14",
   "metadata": {},
   "outputs": [],
   "source": [
    "import os\n",
    "import glob\n",
    "import pandas as pd"
   ]
  },
  {
   "cell_type": "code",
   "execution_count": 36,
   "id": "1251f668",
   "metadata": {},
   "outputs": [
    {
     "name": "stdout",
     "output_type": "stream",
     "text": [
      "0221428AP.dcm\n",
      "0311983-PA.dcm\n",
      "W: cannot compute min/max VOI window\n",
      "0311959-PA.dcm\n",
      "rtplan2.dcm\n",
      "0522100-AP.dcm\n",
      "W: DcmMetaInfo: Group Length of Meta Information Header has incorrect value\n",
      "E: one or more mandatory attributes are missing in image pixel module\n",
      "F: Missing attribute\n",
      "0522100-LAT.dcm\n",
      "W: DcmMetaInfo: Group Length of Meta Information Header has incorrect value\n",
      "E: one or more mandatory attributes are missing in image pixel module\n",
      "F: Missing attribute\n",
      "0522100-AP_mod.dcm\n",
      "W: cannot compute min/max VOI window\n",
      "0522100-LAT_mod.dcm\n",
      "W: cannot compute min/max VOI window\n"
     ]
    }
   ],
   "source": [
    "in_dir = \"/slurm_storage/mbopf/projects/mwb/imaging_utils/\"\n",
    "#in_dir = \"/slurm_storage/mbopf/data/PedTB/renamed/\"\n",
    "glob_str = \"*.dcm\"\n",
    "\n",
    "out_ext = \".jpg\"\n",
    "out_dir = \"./jpgTestImages/\"\n",
    "#out_dir = \"/slurm_storage/mbopf/data/PedTB/renamed/jpgImages/\"\n",
    "write_flag = '--write-jpeg'\n",
    "\n",
    "#out_ext = \".png\"\n",
    "#out_dir = \"./pngImages/\"\n",
    "#write_flag = '--write-png'\n",
    "\n",
    "for file in glob.glob(in_dir + glob_str):\n",
    "    basename = os.path.basename(file)\n",
    "    print(basename)\n",
    "    base = os.path.splitext(basename)[0]\n",
    "    out_file = out_dir + base + out_ext\n",
    "    !dcmj2pnm $write_flag --min-max-window-n $file $out_file\n",
    "    #out_file = out_dir + base + '_hist' + out_ext\n",
    "    #!dcmj2pnm $write_flag --histogram-window 5 $file $out_file"
   ]
  },
  {
   "cell_type": "code",
   "execution_count": 33,
   "id": "e74612d7",
   "metadata": {},
   "outputs": [
    {
     "name": "stdout",
     "output_type": "stream",
     "text": [
      "0522100-AP_mod.dcm; /slurm_storage/mbopf/data/PedTB/renamed/jpgImages/0522100-AP_mod.jpg\n",
      "W: cannot compute min/max VOI window\n",
      "0522100-LAT_mod.dcm; /slurm_storage/mbopf/data/PedTB/renamed/jpgImages/0522100-LAT_mod.jpg\n",
      "W: cannot compute min/max VOI window\n",
      "0522112-AP_mod.dcm; /slurm_storage/mbopf/data/PedTB/renamed/jpgImages/0522112-AP_mod.jpg\n",
      "W: cannot compute min/max VOI window\n",
      "0522112-LAT_mod.dcm; /slurm_storage/mbopf/data/PedTB/renamed/jpgImages/0522112-LAT_mod.jpg\n",
      "W: cannot compute min/max VOI window\n",
      "0522124-AP_mod.dcm; /slurm_storage/mbopf/data/PedTB/renamed/jpgImages/0522124-AP_mod.jpg\n",
      "W: cannot compute min/max VOI window\n",
      "0522124-LAT_mod.dcm; /slurm_storage/mbopf/data/PedTB/renamed/jpgImages/0522124-LAT_mod.jpg\n",
      "W: cannot compute min/max VOI window\n",
      "0522184-AP_mod.dcm; /slurm_storage/mbopf/data/PedTB/renamed/jpgImages/0522184-AP_mod.jpg\n",
      "W: cannot compute min/max VOI window\n",
      "0522184-LAT_mod.dcm; /slurm_storage/mbopf/data/PedTB/renamed/jpgImages/0522184-LAT_mod.jpg\n",
      "W: cannot compute min/max VOI window\n",
      "0522220-AP_mod.dcm; /slurm_storage/mbopf/data/PedTB/renamed/jpgImages/0522220-AP_mod.jpg\n",
      "W: cannot compute min/max VOI window\n",
      "0522220-LAT_mod.dcm; /slurm_storage/mbopf/data/PedTB/renamed/jpgImages/0522220-LAT_mod.jpg\n",
      "W: cannot compute min/max VOI window\n",
      "0522280-AP_mod.dcm; /slurm_storage/mbopf/data/PedTB/renamed/jpgImages/0522280-AP_mod.jpg\n",
      "W: cannot compute min/max VOI window\n",
      "0522280-LAT_mod.dcm; /slurm_storage/mbopf/data/PedTB/renamed/jpgImages/0522280-LAT_mod.jpg\n",
      "W: cannot compute min/max VOI window\n"
     ]
    }
   ],
   "source": [
    "#in_dir = \"/slurm_storage/mbopf/projects/mwb/imaging_utils/\"\n",
    "in_dir = \"/slurm_storage/mbopf/data/PedTB/renamed/\"\n",
    "glob_str = \"*_mod.dcm\"\n",
    "\n",
    "out_ext = \".jpg\"\n",
    "#out_dir = \"./jpgImages/\"\n",
    "out_dir = \"/slurm_storage/mbopf/data/PedTB/renamed/jpgImages/\"\n",
    "write_flag = '--write-jpeg'\n",
    "\n",
    "#out_ext = \".png\"\n",
    "#out_dir = \"./pngImages/\"\n",
    "#out_dir = \"/slurm_storage/mbopf/data/PedTB/renamed/pngImages/\"\n",
    "#write_flag = '--write-png'\n",
    "\n",
    "for file in glob.glob(in_dir + glob_str):\n",
    "    basename = os.path.basename(file)\n",
    "    print(f'{basename}; ', end='')\n",
    "    base = os.path.splitext(basename)[0]\n",
    "    out_file = out_dir + base + out_ext\n",
    "    print(out_file)\n",
    "    !dcmj2pnm $write_flag --min-max-window-n $file $out_file"
   ]
  },
  {
   "cell_type": "code",
   "execution_count": null,
   "id": "b5c5a42a",
   "metadata": {},
   "outputs": [],
   "source": []
  }
 ],
 "metadata": {
  "kernelspec": {
   "display_name": "Python [conda env:imaging] *",
   "language": "python",
   "name": "conda-env-imaging-py"
  },
  "language_info": {
   "codemirror_mode": {
    "name": "ipython",
    "version": 3
   },
   "file_extension": ".py",
   "mimetype": "text/x-python",
   "name": "python",
   "nbconvert_exporter": "python",
   "pygments_lexer": "ipython3",
   "version": "3.9.12"
  }
 },
 "nbformat": 4,
 "nbformat_minor": 5
}
